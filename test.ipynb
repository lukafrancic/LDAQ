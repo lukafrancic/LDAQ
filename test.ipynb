{
 "cells": [
  {
   "cell_type": "code",
   "execution_count": 16,
   "metadata": {},
   "outputs": [],
   "source": [
    "from LDAQ.micro_epsilon.acquisition import Scanner\n",
    "# from acquisition import Scanner\n",
    "\n",
    "import numpy as np\n",
    "import matplotlib.pyplot as plt"
   ]
  },
  {
   "cell_type": "markdown",
   "metadata": {},
   "source": [
    "Trenutno se za ta test ne rabi LDAQ (bi moral dejansko instalirati pyllt kot pise v navodilih v classu).\n",
    "\n",
    "Tako da se lahko samo premakne tale notebook v `micro_epsilon` folder in tam skopira pyllt knjiznico (je na voljo v pyllt/pyllt).\n",
    "\n",
    "V kolikor Scanner class dela, se ga lahko dokaj enostavno wrappa v MELaserScanner class. Ta class je trenutno zastarel in ga nisem posodabljal... Pojavi se namreč več težav:\n",
    "\n",
    "- LDAQ bi postal dokaj počasen, ker bi trikrat izvajal kopiranje podatkov. Trenutno se izvaja dvakrat -> prvič na `ProfileBuffer`, podatki za trenutni profil, in nato še v `Buffer`, kjer so shranjeni vsi zajeti profili.\n",
    "- v LDAQ je predvideno, da se pri branju vse skupaj zapakira v en array, tukaj pa pride do rahle težave, ker je za posamezen tip podatka predviden drug data type (X -> float, I -> int)\n",
    "\n",
    "Mogoče bi lahko samo v read_loopu samo dodal dummy vrednosti, zato da je in potem povozil get_meas_dict metodo. Ne vem kako sprejemljivo je to..."
   ]
  },
  {
   "cell_type": "markdown",
   "metadata": {},
   "source": [
    "Če je kaj prav bi se moral skener na tej točki sam povezati in biti pripravljen na zajem."
   ]
  },
  {
   "cell_type": "code",
   "execution_count": null,
   "metadata": {},
   "outputs": [],
   "source": [
    "device = Scanner()"
   ]
  },
  {
   "cell_type": "markdown",
   "metadata": {},
   "source": [
    "Za začetek zajema je predvidena `start_measurement` metoda. Ta zažene nov thread, kjer se izvaja funkcija, ki zajema in shranjuje podatke. V kolikor se funkcija ne zažene v lastnem threadu pride do crasha. Ne znam razložiti zakaj, vem samo da mora biti generator za zajem instanciran znotraj iste funkcije, kjer se ga nato iterira.\n",
    "\n",
    "Ta zahteva s seboj potegne precej težav... zato je za shranjevanje podatkov dodan nov class `Buffer`. V njemu so shranjeni vsi podatki s skenerja. Sam uporabnik načeloma nima nobene interakcije z njim. Za pridobitev podatkov je na voljo metoda `Scanner.get_data`.\n",
    "\n"
   ]
  },
  {
   "cell_type": "code",
   "execution_count": null,
   "metadata": {},
   "outputs": [],
   "source": [
    "device.start_measurement()"
   ]
  },
  {
   "cell_type": "markdown",
   "metadata": {},
   "source": [
    "start metoda praviloma nebi smela blokirati notebook-a. Zato se lahko uporabi `Scanner.stop_measurement` metoda za ustavitev zajema, ki nato tudi združi ustvarjen thread.\n"
   ]
  },
  {
   "cell_type": "code",
   "execution_count": null,
   "metadata": {},
   "outputs": [],
   "source": [
    "device.stop_measurement()"
   ]
  },
  {
   "cell_type": "markdown",
   "metadata": {},
   "source": [
    "Kot omenjeno je se podatke pridobi z naslednjo metodo. Ta vrne ven slovar s kanali in array-i z vrednostmi. Array-i so strukturirani kot [resolucija, i-ti profil]."
   ]
  },
  {
   "cell_type": "code",
   "execution_count": null,
   "metadata": {},
   "outputs": [],
   "source": [
    "data = device.get_data()"
   ]
  },
  {
   "cell_type": "markdown",
   "metadata": {},
   "source": [
    "Bi še omenil, da vrednosti za I, T in W so zelo verjetno napačne (vsaj na RPI je bil to problem). Pride do napake pri kalkulaciji vrednosti (napaka znotraj pyllt ali pa jaz kaj narobe delam). Če se iterira čez C array pa prideš do pravih vrednosti..."
   ]
  },
  {
   "cell_type": "code",
   "execution_count": null,
   "metadata": {},
   "outputs": [],
   "source": [
    "plt.plot(data[\"X\"], data[\"Z\"])\n",
    "\n",
    "# zadnja dva piksla nista definirana, napaka v firmwaru? treba vprašati dobavitelja\n",
    "plt.xlim(-50, 50)\n",
    "plt.ylim(70, 125)"
   ]
  }
 ],
 "metadata": {
  "kernelspec": {
   "display_name": "venv",
   "language": "python",
   "name": "python3"
  },
  "language_info": {
   "codemirror_mode": {
    "name": "ipython",
    "version": 3
   },
   "file_extension": ".py",
   "mimetype": "text/x-python",
   "name": "python",
   "nbconvert_exporter": "python",
   "pygments_lexer": "ipython3",
   "version": "3.11.7"
  }
 },
 "nbformat": 4,
 "nbformat_minor": 2
}
